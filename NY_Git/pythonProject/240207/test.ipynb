{
 "cells": [
  {
   "cell_type": "code",
   "execution_count": 4,
   "metadata": {},
   "outputs": [
    {
     "name": "stdout",
     "output_type": "stream",
     "text": [
      "#1 1\n",
      "#2 4\n",
      "#3 11\n"
     ]
    }
   ],
   "source": [
    "# swea_15030.py\n",
    "T = int(input())\n",
    "\n",
    "for tc in range(1, T+1):\n",
    "    s = list(input())\n",
    "\n",
    "    i = 0\n",
    "    while i < len(s) -1:\n",
    "        if s[i] == s[i+1]:\n",
    "            s.pop(i)\n",
    "            s.pop(i)\n",
    "            i = max(0, i-1)\n",
    "        else:\n",
    "            i += 1\n",
    "\n",
    "    print(f'#{tc} {len(s)}')"
   ]
  },
  {
   "cell_type": "code",
   "execution_count": 13,
   "metadata": {},
   "outputs": [
    {
     "name": "stdout",
     "output_type": "stream",
     "text": [
      "1\n"
     ]
    }
   ],
   "source": [
    "# 15028 괄호검사\n",
    "T = int(input())\n",
    "\n",
    "for tc in range(T):\n",
    "    brackets : dict[str, str] = {')':'(', '}':'{', ']':'[]'}\n",
    "    STACK = []\n",
    "    code = input()\n",
    "    answer = 1\n",
    "\n",
    "    for c in code:\n",
    "        if c in brackets.values():\n",
    "            STACK.append(c)\n",
    "        elif c in brackets:\n",
    "            pop_bracket = STACK.pop()\n",
    "            if not pop_bracket or pop_bracket != brackets[c]:\n",
    "                answer = 0\n",
    "\n",
    "    if len(STACK) > 0:\n",
    "        answer = 1\n",
    "\n",
    "    print(answer)"
   ]
  },
  {
   "cell_type": "code",
   "execution_count": null,
   "metadata": {},
   "outputs": [],
   "source": []
  }
 ],
 "metadata": {
  "kernelspec": {
   "display_name": "Python 3",
   "language": "python",
   "name": "python3"
  },
  "language_info": {
   "codemirror_mode": {
    "name": "ipython",
    "version": 3
   },
   "file_extension": ".py",
   "mimetype": "text/x-python",
   "name": "python",
   "nbconvert_exporter": "python",
   "pygments_lexer": "ipython3",
   "version": "3.12.1"
  }
 },
 "nbformat": 4,
 "nbformat_minor": 2
}
