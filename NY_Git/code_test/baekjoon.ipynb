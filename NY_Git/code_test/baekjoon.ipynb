{
 "cells": [
  {
   "cell_type": "code",
   "execution_count": null,
   "metadata": {},
   "outputs": [],
   "source": []
  },
  {
   "cell_type": "code",
   "execution_count": null,
   "metadata": {},
   "outputs": [
    {
     "name": "stdout",
     "output_type": "stream",
     "text": [
      "NO\n"
     ]
    }
   ],
   "source": [
    "# 백준 25304 영수증\n",
    "\n",
    "price_sum = int(input())\n",
    "product_type = int(input())\n",
    "\n",
    "sum = 0\n",
    "for i in range(product_type):\n",
    "    a, b = map(int, input().split())\n",
    "    sum += (a * b)\n",
    "\n",
    "if price_sum == sum:\n",
    "    print('Yes')\n",
    "else:\n",
    "    print('No')"
   ]
  },
  {
   "cell_type": "code",
   "execution_count": null,
   "metadata": {},
   "outputs": [
    {
     "name": "stdout",
     "output_type": "stream",
     "text": [
      "long long long long long int\n"
     ]
    }
   ],
   "source": [
    "# 백준 25314 코딩은 체육과목 입니다.\n",
    "\n",
    "N = int(input())\n",
    "long = 'long ' * (N//4)\n",
    "print(f'{long}int')"
   ]
  },
  {
   "cell_type": "code",
   "execution_count": null,
   "metadata": {},
   "outputs": [
    {
     "ename": "ValueError",
     "evalue": "invalid literal for int() with base 10: ''",
     "output_type": "error",
     "traceback": [
      "\u001b[1;31m---------------------------------------------------------------------------\u001b[0m",
      "\u001b[1;31mValueError\u001b[0m                                Traceback (most recent call last)",
      "Cell \u001b[1;32mIn[1], line 3\u001b[0m\n\u001b[0;32m      1\u001b[0m \u001b[38;5;66;03m# 11021 A+B - 7\u001b[39;00m\n\u001b[1;32m----> 3\u001b[0m T \u001b[38;5;241m=\u001b[39m \u001b[38;5;28;43mint\u001b[39;49m\u001b[43m(\u001b[49m\u001b[38;5;28;43minput\u001b[39;49m\u001b[43m(\u001b[49m\u001b[43m)\u001b[49m\u001b[43m)\u001b[49m\n\u001b[0;32m      4\u001b[0m \u001b[38;5;28;01mfor\u001b[39;00m test_case \u001b[38;5;129;01min\u001b[39;00m \u001b[38;5;28mrange\u001b[39m(\u001b[38;5;241m1\u001b[39m, T \u001b[38;5;241m+\u001b[39m \u001b[38;5;241m1\u001b[39m):\n\u001b[0;32m      5\u001b[0m     A, B \u001b[38;5;241m=\u001b[39m \u001b[38;5;28mmap\u001b[39m(\u001b[38;5;28mint\u001b[39m, \u001b[38;5;28minput\u001b[39m()\u001b[38;5;241m.\u001b[39msplit())\n",
      "\u001b[1;31mValueError\u001b[0m: invalid literal for int() with base 10: ''"
     ]
    }
   ],
   "source": [
    "# 11021 A+B - 7\n",
    "\n",
    "\n",
    "T = int(input())\n",
    "for test_case in range(1, T + 1):\n",
    "    A, B = map(int, input().split())\n",
    "    print(f'Case #{test_case}: {A+B}')"
   ]
  },
  {
   "cell_type": "code",
   "execution_count": null,
   "metadata": {},
   "outputs": [],
   "source": [
    "# 15552 빠른 A+B\n",
    "import sys\n",
    "\n",
    "T = int(input())\n",
    "for test_case in range(1, T+1):\n",
    "    A, B = map(int, sys.stdin.readline().split())\n",
    "    print(A + B)"
   ]
  },
  {
   "cell_type": "code",
   "execution_count": null,
   "metadata": {},
   "outputs": [
    {
     "name": "stdout",
     "output_type": "stream",
     "text": [
      "Case #1: 1 + 1 = 2\n",
      "Case #2: 2 + 2 = 4\n",
      "Case #3: 3 + 3 = 6\n"
     ]
    }
   ],
   "source": [
    "# 11022 A+B - 8\n",
    "\n",
    "T = int(input())\n",
    "for test_case in range(1, T+1):\n",
    "    A, B = map(int, input().split())\n",
    "    print(f'Case #{test_case}: {A} + {B} = {A+B}')"
   ]
  },
  {
   "cell_type": "code",
   "execution_count": null,
   "metadata": {},
   "outputs": [
    {
     "name": "stdout",
     "output_type": "stream",
     "text": [
      "*\n",
      "**\n",
      "***\n",
      "****\n",
      "*****\n"
     ]
    }
   ],
   "source": [
    "# 2438 별 찍기 -1\n",
    "\n",
    "num = int(input())\n",
    "\n",
    "for i in range(1, num+1):\n",
    "    print(i*'*')"
   ]
  },
  {
   "cell_type": "code",
   "execution_count": null,
   "metadata": {},
   "outputs": [
    {
     "name": "stdout",
     "output_type": "stream",
     "text": [
      "    *\n",
      "   **\n",
      "  ***\n",
      " ****\n",
      "*****\n"
     ]
    }
   ],
   "source": [
    "# 2439 별 찍기 - 2\n",
    "\n",
    "num = int(input())\n",
    "\n",
    "for i in range(1, num+1):\n",
    "    empty = ' ' * (num-i)\n",
    "    star = '*' * i\n",
    "    print(f'{empty}{star}')"
   ]
  },
  {
   "cell_type": "code",
   "execution_count": null,
   "metadata": {},
   "outputs": [
    {
     "name": "stdout",
     "output_type": "stream",
     "text": [
      "2\n",
      "4\n"
     ]
    }
   ],
   "source": [
    "# 10952 A+B - 5\n",
    "\n",
    "while True :\n",
    "    A, B = map(int, input().split())\n",
    "    if A == 0 and B == 0:\n",
    "        break\n",
    "    print(A+B)"
   ]
  },
  {
   "cell_type": "code",
   "execution_count": null,
   "metadata": {},
   "outputs": [
    {
     "ename": "TypeError",
     "evalue": "int() argument must be a string, a bytes-like object or a number, not 'list'",
     "output_type": "error",
     "traceback": [
      "\u001b[1;31m---------------------------------------------------------------------------\u001b[0m",
      "\u001b[1;31mTypeError\u001b[0m                                 Traceback (most recent call last)",
      "Cell \u001b[1;32mIn[2], line 3\u001b[0m\n\u001b[0;32m      1\u001b[0m \u001b[38;5;66;03m# 2558 A+B - 2\u001b[39;00m\n\u001b[1;32m----> 3\u001b[0m A \u001b[38;5;241m=\u001b[39m \u001b[38;5;28;43mint\u001b[39;49m\u001b[43m(\u001b[49m\u001b[38;5;28;43minput\u001b[39;49m\u001b[43m(\u001b[49m\u001b[43m)\u001b[49m\u001b[38;5;241;43m.\u001b[39;49m\u001b[43msplit\u001b[49m\u001b[43m(\u001b[49m\u001b[43m)\u001b[49m\u001b[43m)\u001b[49m\n\u001b[0;32m      4\u001b[0m B \u001b[38;5;241m=\u001b[39m \u001b[38;5;28mint\u001b[39m(\u001b[38;5;28minput\u001b[39m()\u001b[38;5;241m.\u001b[39msplit())\n\u001b[0;32m      5\u001b[0m \u001b[38;5;28mprint\u001b[39m(A\u001b[38;5;241m+\u001b[39mB)\n",
      "\u001b[1;31mTypeError\u001b[0m: int() argument must be a string, a bytes-like object or a number, not 'list'"
     ]
    }
   ],
   "source": [
    "# 2558 A+B - 2\n",
    "\n",
    "A = int(input())\n",
    "B = int(input())\n",
    "print(A+B)"
   ]
  },
  {
   "cell_type": "code",
   "execution_count": null,
   "metadata": {},
   "outputs": [
    {
     "name": "stdout",
     "output_type": "stream",
     "text": [
      "18 20 0\n"
     ]
    }
   ],
   "source": [
    "# 2530 인공지능 시계\n",
    "\n",
    "# H, M, S = map(int, input().split())\n",
    "# plus_time = int(input())\n",
    "\n",
    "# S = (S + plus_time)%60\n",
    "# M += (S + plus_time)//60\n",
    "# H += (S + plus_time)//3600\n",
    "\n",
    "# if M >= 60:\n",
    "#     M = M%60\n",
    "#     H += M//60\n",
    "# if H >= 24:\n",
    "#     H = H%24\n",
    "\n",
    "\n",
    "# print(H, M, S)\n",
    "\n",
    "h, m, s = map(int, input().split())\n",
    "t = int(input())\n",
    "\n",
    "s += t\n",
    "m += s//60\n",
    "h += m//60\n",
    "\n",
    "print(h%24, m%60, s%60)\n"
   ]
  },
  {
   "cell_type": "code",
   "execution_count": null,
   "metadata": {},
   "outputs": [
    {
     "name": "stdout",
     "output_type": "stream",
     "text": [
      "1010\n"
     ]
    }
   ],
   "source": [
    "# 2935 소음\n",
    "\n",
    "num1 = int(input())\n",
    "operator = input()\n",
    "num2 = int(input())\n",
    "\n",
    "match operator:\n",
    "    case '+' :\n",
    "        print(num1 + num2)\n",
    "    case '*' :\n",
    "        print(num1 * num2)\n",
    "\n",
    "        "
   ]
  },
  {
   "cell_type": "code",
   "execution_count": null,
   "metadata": {},
   "outputs": [
    {
     "name": "stdout",
     "output_type": "stream",
     "text": [
      "20\n"
     ]
    }
   ],
   "source": [
    "# 10817 세 수\n",
    "\n",
    "lst = list(map(int, input().split()))\n",
    "\n",
    "sorted_lst = sorted(lst)\n",
    "\n",
    "print(sorted_lst[-2])"
   ]
  },
  {
   "cell_type": "code",
   "execution_count": null,
   "metadata": {},
   "outputs": [
    {
     "name": "stdout",
     "output_type": "stream",
     "text": [
      "No\n",
      "No\n",
      "Yes\n"
     ]
    }
   ],
   "source": [
    "# 4101 크냐?\n",
    "\n",
    "while True:\n",
    "    A, B = map(int, input().split())\n",
    "    if A == 0 and B == 0:\n",
    "        break\n",
    "    elif A > B :\n",
    "        print('Yes')\n",
    "    elif A <= B :\n",
    "        print('No')"
   ]
  },
  {
   "cell_type": "code",
   "execution_count": null,
   "metadata": {},
   "outputs": [
    {
     "name": "stdout",
     "output_type": "stream",
     "text": [
      "0\n"
     ]
    }
   ],
   "source": [
    "# 10156 과자\n",
    "\n",
    "K, N, M = map(int, input().split())\n",
    "\n",
    "if K * N <= M:\n",
    "    print('0')\n",
    "else :\n",
    "    print(abs(K * N - M))"
   ]
  },
  {
   "cell_type": "code",
   "execution_count": null,
   "metadata": {},
   "outputs": [
    {
     "name": "stdout",
     "output_type": "stream",
     "text": [
      "7 7\n"
     ]
    }
   ],
   "source": [
    "# 3009 네 번째 점\n",
    "\n",
    "x1, y1 = map(int, input().split())\n",
    "x2, y2 = map(int, input().split())\n",
    "x3, y3 = map(int, input().split())\n",
    "# x4, y4 = 0\n",
    "if x1 == x2 :\n",
    "    x4 = x3\n",
    "elif x1 == x3 :\n",
    "    x4 = x2\n",
    "elif x2 == x3 :\n",
    "    x4 = x1\n",
    "\n",
    "if y1 == y2 :\n",
    "    y4 = y3\n",
    "elif y1 == y3 :\n",
    "    y4 = y2\n",
    "elif y2 == y3 :\n",
    "    y4 = y1\n",
    "\n",
    "print(x4, y4)"
   ]
  },
  {
   "cell_type": "code",
   "execution_count": null,
   "metadata": {},
   "outputs": [
    {
     "name": "stdout",
     "output_type": "stream",
     "text": [
      "sum: 600\n"
     ]
    },
    {
     "ename": "TypeError",
     "evalue": "'NoneType' object is not iterable",
     "output_type": "error",
     "traceback": [
      "\u001b[1;31m---------------------------------------------------------------------------\u001b[0m",
      "\u001b[1;31mTypeError\u001b[0m                                 Traceback (most recent call last)",
      "Cell \u001b[1;32mIn[27], line 26\u001b[0m\n\u001b[0;32m     24\u001b[0m     sum_lst \u001b[38;5;241m=\u001b[39m sum_lst\u001b[38;5;241m.\u001b[39mappend(\u001b[38;5;28msum\u001b[39m)\n\u001b[0;32m     25\u001b[0m \u001b[38;5;28mprint\u001b[39m(\u001b[38;5;124m'\u001b[39m\u001b[38;5;124msum:\u001b[39m\u001b[38;5;124m'\u001b[39m, \u001b[38;5;28msum\u001b[39m)\n\u001b[1;32m---> 26\u001b[0m sum_lst \u001b[38;5;241m=\u001b[39m \u001b[38;5;28;43msorted\u001b[39;49m\u001b[43m(\u001b[49m\u001b[43msum_lst\u001b[49m\u001b[43m)\u001b[49m\n\u001b[0;32m     27\u001b[0m \u001b[38;5;28mprint\u001b[39m(\u001b[38;5;124m'\u001b[39m\u001b[38;5;124msum_lst:\u001b[39m\u001b[38;5;124m'\u001b[39m, sum_lst)\n\u001b[0;32m     29\u001b[0m \u001b[38;5;66;03m# print(sum_lst[-1])\u001b[39;00m\n",
      "\u001b[1;31mTypeError\u001b[0m: 'NoneType' object is not iterable"
     ]
    }
   ],
   "source": [
    "# 2476 주사위 게임\n",
    "\n",
    "T = int(input())\n",
    "\n",
    "sum_lst = []\n",
    "\n",
    "for test_case in range(T):\n",
    "    lst = list(map(int, input().split()))\n",
    "\n",
    "    if lst[0] == lst[1] == lst[2] :\n",
    "        sum = 10000 + lst[0] * 1000\n",
    "\n",
    "    elif (lst[0] == lst[1]) or (lst[1] == lst[2]) or (lst[0] == lst[2]) :\n",
    "        if lst[0] == lst[1]:\n",
    "            sum = 1000 + lst[0] * 100\n",
    "        elif lst[1] == lst[2] :\n",
    "            sum = 1000 + lst[1] * 100\n",
    "        else :\n",
    "            sum = 1000 + lst[0] * 100\n",
    "\n",
    "    else :\n",
    "        sum = max(lst) * 100\n",
    "    # print('sum:', sum)\n",
    "\n",
    "    sum_lst.append(sum)\n",
    "    # print('sum_lst:', sum_lst)\n",
    "\n",
    "\n",
    "print(max(sum_lst))"
   ]
  },
  {
   "cell_type": "code",
   "execution_count": null,
   "metadata": {},
   "outputs": [
    {
     "name": "stdout",
     "output_type": "stream",
     "text": [
      "20\n"
     ]
    }
   ],
   "source": [
    "# 2754 학점계산\n",
    "\n",
    "score = input()\n",
    "\n",
    "match score:\n",
    "    case 'A+' :\n",
    "        print(4.3)\n",
    "    case 'A0' :\n",
    "        print(4.0)\n",
    "    case 'A-' :\n",
    "        print(3.7)\n",
    "    case 'B+' :\n",
    "        print(3.3)\n",
    "    case 'B0' :\n",
    "        print(3.0)\n",
    "    case 'B-' :\n",
    "        print(2.7)\n",
    "    case 'C+' :\n",
    "        print(2.3)\n",
    "    case 'C0' :\n",
    "        print(2.0)\n",
    "    case 'C-' :\n",
    "        print(1.7)\n",
    "    case 'D+' :\n",
    "        print(1.3)\n",
    "    case 'D0' :\n",
    "        print(1.0)\n",
    "    case 'D-' :\n",
    "        print(0.7)\n",
    "    case 'F' :\n",
    "        print(0.0)\n",
    "\n",
    "# dic = {'A+': '4.3', 'A0': '4.0', 'A-': '3.7',\n",
    "#        'B+': '3.3', 'B0': '3.0', 'B-': '2.7',\n",
    "#        'C+': '2.3', 'C0': '2.0', 'C-': '1.7',\n",
    "#        'D+': '1.3', 'D0': '1.0', 'D-': '0.7',\n",
    "#        'F': '0.0'}\n",
    "# grade = input()\n",
    "# print(dic[grade])"
   ]
  },
  {
   "cell_type": "code",
   "execution_count": null,
   "metadata": {},
   "outputs": [
    {
     "name": "stdout",
     "output_type": "stream",
     "text": [
      "149534482925\n"
     ]
    }
   ],
   "source": [
    "# 10757 큰 수 A+B\n",
    "\n",
    "A, B = map(int, input().split())\n",
    "\n",
    "print(A + B)"
   ]
  },
  {
   "cell_type": "code",
   "execution_count": null,
   "metadata": {},
   "outputs": [
    {
     "name": "stdout",
     "output_type": "stream",
     "text": [
      "3\n"
     ]
    }
   ],
   "source": [
    "# 2163 초콜릿 자르기\n",
    "\n",
    "N, M = map(int, input().split())\n",
    "\n",
    "print(N * M -1)"
   ]
  },
  {
   "cell_type": "code",
   "execution_count": null,
   "metadata": {},
   "outputs": [
    {
     "name": "stdout",
     "output_type": "stream",
     "text": [
      "97\n"
     ]
    }
   ],
   "source": [
    "# 11653 소인수분해 내 풀이\n",
    "\n",
    "N = int(input())\n",
    "i = 2\n",
    "while N != i:\n",
    "    if N % i == 0:\n",
    "        print(i)\n",
    "        N = N // i\n",
    "    else:\n",
    "        i += 1"
   ]
  },
  {
   "cell_type": "code",
   "execution_count": null,
   "metadata": {},
   "outputs": [
    {
     "name": "stdout",
     "output_type": "stream",
     "text": [
      "2\n",
      "3\n"
     ]
    }
   ],
   "source": [
    "# 11653 소인수분해 답\n",
    "\n",
    "num = int(input())\n",
    "i = 2\n",
    "while num > 1:\n",
    "    if num % i == 0:\n",
    "        num = num // i\n",
    "        print(i)\n",
    "    else:\n",
    "        i += 1"
   ]
  },
  {
   "cell_type": "code",
   "execution_count": null,
   "metadata": {},
   "outputs": [],
   "source": [
    "# 11653 소인수분해 가현 답\n",
    "\n",
    "N = int(input())\n",
    "d = 2\n",
    "numbers = []\n",
    "while N >= d:\n",
    "  if N % d == 0:\n",
    "    N = N//d\n",
    "    numbers.append(d)\n",
    "  else:\n",
    "    d += 1\n",
    "for num in numbers:\n",
    "  print(num)"
   ]
  },
  {
   "cell_type": "code",
   "execution_count": null,
   "metadata": {},
   "outputs": [
    {
     "name": "stdout",
     "output_type": "stream",
     "text": [
      "10\n"
     ]
    }
   ],
   "source": [
    "# 5717 상근이의 친구들\n",
    "\n",
    "M, F = map(int, input().split())\n",
    "while (M != 0) and (F != 0):\n",
    "    print(M + F)\n",
    "    M, F = map(int, input().split())\n",
    "\n"
   ]
  },
  {
   "cell_type": "code",
   "execution_count": null,
   "metadata": {},
   "outputs": [
    {
     "name": "stdout",
     "output_type": "stream",
     "text": [
      "factor\n",
      "multiple\n",
      "neither\n"
     ]
    }
   ],
   "source": [
    "# 5086 배수와 약수\n",
    "\n",
    "num1, num2 = map(int, input().split())\n",
    "\n",
    "while (num1 != 0) and (num2 != 0):\n",
    "    if num2 % num1 == 0:\n",
    "        print('factor')\n",
    "        num1, num2 = map(int, input().split())\n",
    "\n",
    "    elif num1 % num2 == 0:\n",
    "        print('multiple')\n",
    "        num1, num2 = map(int, input().split())\n",
    "\n",
    "    else:\n",
    "        print('neither')\n",
    "        num1, num2 = map(int, input().split())\n",
    "\n"
   ]
  },
  {
   "cell_type": "code",
   "execution_count": null,
   "metadata": {},
   "outputs": [
    {
     "name": "stdout",
     "output_type": "stream",
     "text": [
      "Q1: 2\n",
      "Q2: 0\n",
      "Q3: 0\n",
      "Q4: 1\n",
      "AXIS: 2\n"
     ]
    }
   ],
   "source": [
    "# 9610 사분면\n",
    "T = int(input())\n",
    "Q1, Q2, Q3, Q4 = 0, 0, 0, 0,\n",
    "\n",
    "for test_case in range(T):\n",
    "    x, y = map(int, input().split())\n",
    "    if x > 0 and y > 0:\n",
    "        Q1 += 1\n",
    "    elif x > 0 and y < 0:\n",
    "        Q4 += 1\n",
    "    elif x < 0 and y > 0:\n",
    "        Q2 += 1\n",
    "    elif x < 0 and y <0:\n",
    "        Q3 += 1\n",
    "\n",
    "print(f'Q1: {Q1}')\n",
    "print(f'Q2: {Q2}')\n",
    "print(f'Q3: {Q3}')\n",
    "print(f'Q4: {Q4}')\n",
    "print(f'AXIS: {max(Q1, Q2, Q3, Q4)}')"
   ]
  },
  {
   "cell_type": "code",
   "execution_count": 7,
   "metadata": {},
   "outputs": [
    {
     "name": "stdout",
     "output_type": "stream",
     "text": [
      "10\n",
      "9\n",
      "8\n",
      "45\n",
      "30\n"
     ]
    }
   ],
   "source": [
    "# 8958 OX퀴즈\n",
    "\n",
    "T = int(input())\n",
    "\n",
    "for test_case in range(T):\n",
    "    string = input()\n",
    "    score = 0\n",
    "    sum_score = 0\n",
    "\n",
    "    for str in string:\n",
    "        if str == 'O':\n",
    "            score += 1\n",
    "            sum_score += score\n",
    "        else:\n",
    "            score = 0\n",
    "    print(sum_score)\n",
    "\n"
   ]
  },
  {
   "cell_type": "code",
   "execution_count": 9,
   "metadata": {},
   "outputs": [
    {
     "name": "stdout",
     "output_type": "stream",
     "text": [
      "19\n"
     ]
    }
   ],
   "source": [
    "# 1789 수들의 합\n",
    "\n",
    "S = int(input())\n",
    "N = 1\n",
    "\n",
    "while (N * (N + 1)) // 2 <= S:\n",
    "    N += 1\n",
    "\n",
    "print(N-1)"
   ]
  },
  {
   "cell_type": "code",
   "execution_count": null,
   "metadata": {},
   "outputs": [],
   "source": [
    "# 10951 A+B - 4\n",
    "\n",
    "while True:\n",
    "    try:\n",
    "        A, B = map(int, input().split())\n",
    "        print(A+B)\n",
    "    except:\n",
    "        break"
   ]
  },
  {
   "cell_type": "code",
   "execution_count": 5,
   "metadata": {},
   "outputs": [
    {
     "name": "stdout",
     "output_type": "stream",
     "text": [
      "45000\n",
      "17\n",
      "10\n"
     ]
    }
   ],
   "source": [
    "# 1934 최소공배수\n",
    "\n",
    "T = int(input())\n",
    "\n",
    "for test_case in range(T):\n",
    "    a, b = map(int, input().split())\n",
    "\n",
    "    if a // b == 0 and b // a == 0: # 두 수가 서로소\n",
    "        LCM = a * b\n",
    "    elif (a // b == 0) or (b // a == 0): # 약수 관계\n",
    "        LCM = max(a, b)\n",
    "    else :\n",
    "        d = 2\n",
    "        a_lst = [1]\n",
    "        b_lst = [1]\n",
    "        \n",
    "        while a >= d:\n",
    "            if a % d == 0:\n",
    "                a = a // d\n",
    "                a_lst.append(d)\n",
    "            else:\n",
    "                d += 1\n",
    "\n",
    "        while b >= d:\n",
    "            if b % d == 0:\n",
    "                b = b // d\n",
    "                b_lst.append(d)\n",
    "            else:\n",
    "                d += 1\n",
    "\n",
    "        a_lst_set = list(set(a_lst))\n",
    "        b_lst_set = list(set(b_lst))\n",
    "\n",
    "        a_times = 1\n",
    "        for i in a_lst_set:\n",
    "            a_times *= i\n",
    "\n",
    "        b_times = 1\n",
    "        for j in b_lst_set:\n",
    "            b_times *= j\n",
    "\n",
    "        LCM = int(a_times) * int(b_times)\n",
    "\n",
    "    print(LCM)\n"
   ]
  },
  {
   "cell_type": "code",
   "execution_count": 11,
   "metadata": {},
   "outputs": [
    {
     "name": "stdout",
     "output_type": "stream",
     "text": [
      "45000\n",
      "221\n",
      "30\n"
     ]
    }
   ],
   "source": [
    "# 1934 최소공배수\n",
    "\n",
    "\n",
    "def gcd(a, b): # 최대 공약수\n",
    "    if b == 0:\n",
    "        return a\n",
    "    else:\n",
    "        return gcd(b, a%b)\n",
    "    \n",
    "T = int(input())\n",
    "for test_case in range(T):\n",
    "    a, b = map(int,input().split())\n",
    "    answer = a * b / gcd(a,b)\n",
    "    print(int(answer))"
   ]
  },
  {
   "cell_type": "code",
   "execution_count": 5,
   "metadata": {},
   "outputs": [
    {
     "name": "stdout",
     "output_type": "stream",
     "text": [
      "Yonsei\n"
     ]
    }
   ],
   "source": [
    "# 10214 Baseball\n",
    "\n",
    "T = int(input())\n",
    "\n",
    "for test_case in range(T):\n",
    "    sum_Y = 0\n",
    "    sum_K = 0\n",
    "\n",
    "    for i in range(9):\n",
    "        y, k = map(int, input().split())\n",
    "        sum_Y += y\n",
    "        sum_K += k\n",
    "\n",
    "    if sum_Y > sum_K:\n",
    "        print('Yonsei')\n",
    "    elif sum_Y < sum_K:\n",
    "        print('Korea')\n",
    "    else:\n",
    "        print('Draw')"
   ]
  },
  {
   "cell_type": "code",
   "execution_count": 7,
   "metadata": {},
   "outputs": [
    {
     "name": "stdout",
     "output_type": "stream",
     "text": [
      "94\n",
      "91\n"
     ]
    }
   ],
   "source": [
    "# 10103 주사위게임\n",
    "\n",
    "T = int(input())\n",
    "score1, score2 = 100, 100\n",
    "\n",
    "for test_case in range(T):\n",
    "    num1, num2 = map(int, input().split())\n",
    "\n",
    "    if num1 > num2 :\n",
    "        score2 -= num1\n",
    "    elif num1 < num2 :\n",
    "        score1 -= num2\n",
    "print(score1)\n",
    "print(score2)"
   ]
  },
  {
   "cell_type": "code",
   "execution_count": 2,
   "metadata": {},
   "outputs": [
    {
     "name": "stdout",
     "output_type": "stream",
     "text": [
      "*****\n",
      "****\n",
      "***\n",
      "**\n",
      "*\n"
     ]
    }
   ],
   "source": [
    "# 2440 별 찍기 -3\n",
    "\n",
    "N = int(input())\n",
    "for i in range(N, 0, -1):\n",
    "    print('*' * i)"
   ]
  },
  {
   "cell_type": "code",
   "execution_count": 7,
   "metadata": {},
   "outputs": [
    {
     "name": "stdout",
     "output_type": "stream",
     "text": [
      "-1\n"
     ]
    }
   ],
   "source": [
    "# 1977 완전제곱수\n",
    "\n",
    "M = int(input())\n",
    "N = int(input())\n",
    "\n",
    "lst = []\n",
    "for i in range(1, 101):\n",
    "    square = i**2\n",
    "\n",
    "    if M <= square <= N:\n",
    "        lst.append(square)\n",
    "\n",
    "if len(lst) == 0:\n",
    "    print(-1)\n",
    "else:\n",
    "    print(sum(lst))\n",
    "    print(min(lst))\n",
    "    "
   ]
  },
  {
   "cell_type": "code",
   "execution_count": 4,
   "metadata": {},
   "outputs": [
    {
     "name": "stdout",
     "output_type": "stream",
     "text": [
      "Ronaldinho\n"
     ]
    }
   ],
   "source": [
    "# 11098 첼시를 도와줘!\n",
    "\n",
    "T = int(input())\n",
    "\n",
    "for _ in range(T):\n",
    "    p = int(input())\n",
    "    dic = {}\n",
    "    for _ in range(p):\n",
    "        C, name = input().split()\n",
    "        dic[int(C)] = name\n",
    "        \n",
    "    print(dic[max(dic)])\n",
    "\n"
   ]
  },
  {
   "cell_type": "code",
   "execution_count": 11,
   "metadata": {},
   "outputs": [
    {
     "name": "stdout",
     "output_type": "stream",
     "text": [
      "<built-in method get of dict object at 0x108801dc0>\n"
     ]
    }
   ],
   "source": [
    "# 5635 생일\n",
    "\n",
    "T = int(input())\n",
    "\n",
    "dic = {}\n",
    "for tc in range(T):\n",
    "    name, dd, mm, yyyy = input().split()\n",
    "    day = (30-int(dd)) + (12-int(mm))*30 + (2000-int(yyyy))*12*30\n",
    "\n",
    "    dic[name] = day\n",
    "\n",
    "print(min(dic, key=dic.get))\n",
    "print(max(dic, key=dic.get))\n"
   ]
  },
  {
   "cell_type": "code",
   "execution_count": 16,
   "metadata": {},
   "outputs": [
    {
     "name": "stdout",
     "output_type": "stream",
     "text": [
      "55\n"
     ]
    }
   ],
   "source": [
    "# 2748 피보나치 수 2\n",
    "\n",
    "T = int(input())\n",
    "memo = {}\n",
    "\n",
    "def fibo(N):\n",
    "    if N < 2:\n",
    "        return N\n",
    "    elif N in memo:\n",
    "        return memo[N]\n",
    "    else:\n",
    "        memo[N] = fibo(N-1) + fibo(N-2)\n",
    "        return memo[N]\n",
    "    \n",
    "print(fibo(T))"
   ]
  },
  {
   "cell_type": "code",
   "execution_count": 9,
   "metadata": {},
   "outputs": [
    {
     "name": "stdout",
     "output_type": "stream",
     "text": [
      "11 2.575\n",
      "11 0.0\n"
     ]
    }
   ],
   "source": [
    "# 10984 내 학점을 구해줘\n",
    "\n",
    "T = int(input())\n",
    "\n",
    "for tc in range(T):\n",
    "    N = int(input())\n",
    "\n",
    "    sum_C = 0\n",
    "    avg_G = 0\n",
    "    for n in range(N):\n",
    "        C, G = map(float, input().split())\n",
    "        sum_C += C\n",
    "        avg_G += C * G\n",
    "    \n",
    "    GPA = avg_G / sum_C\n",
    "    print(int(sum_C), '%.1f' % GPA)"
   ]
  },
  {
   "cell_type": "code",
   "execution_count": 3,
   "metadata": {},
   "outputs": [
    {
     "name": "stdout",
     "output_type": "stream",
     "text": [
      "0\n"
     ]
    }
   ],
   "source": [
    "# 10833 사과\n",
    "\n",
    "T = int(input())\n",
    "\n",
    "ab_mod = 0\n",
    "\n",
    "for tc in range(T):\n",
    "    A, B = map(int, input().split())\n",
    "    ab_mod += B % A\n",
    "    \n",
    "print(ab_mod)"
   ]
  },
  {
   "cell_type": "code",
   "execution_count": 5,
   "metadata": {},
   "outputs": [
    {
     "name": "stdout",
     "output_type": "stream",
     "text": [
      "13200\n",
      "50000\n"
     ]
    }
   ],
   "source": [
    "# 9325 얼마?\n",
    "\n",
    "T = int(input())\n",
    "\n",
    "for tc in range(T):\n",
    "    s = int(input())\n",
    "    N = int(input())\n",
    "\n",
    "    sum_qp = 0\n",
    "    for n in range(N):\n",
    "        q, p = map(int, input().split())\n",
    "        sum_qp += q * p\n",
    "\n",
    "    print(s + sum_qp)\n"
   ]
  },
  {
   "cell_type": "code",
   "execution_count": 5,
   "metadata": {},
   "outputs": [
    {
     "name": "stdout",
     "output_type": "stream",
     "text": [
      "55\n"
     ]
    }
   ],
   "source": [
    "# 2747 피보나치 수\n",
    "\n",
    "n = int(input())\n",
    "\n",
    "def fibo(n):\n",
    "\n",
    "    dp = [0] * (n+1)\n",
    "\n",
    "    dp[0] = 0\n",
    "    dp[1] = 1\n",
    "\n",
    "    for i in range(2, n+1):\n",
    "        dp[i] = dp[i-1] + dp[i-2]\n",
    "    \n",
    "    return dp[n]\n",
    "\n",
    "print(fibo(n))"
   ]
  },
  {
   "cell_type": "code",
   "execution_count": 6,
   "metadata": {},
   "outputs": [
    {
     "name": "stdout",
     "output_type": "stream",
     "text": [
      "3\n"
     ]
    }
   ],
   "source": [
    "# 1978 소수 찾기\n",
    "\n",
    "N = int(input())\n",
    "num_lst = list(map(int, input().split()))\n",
    "\n",
    "total_cnt = 0\n",
    "for num in num_lst:\n",
    "    cnt = 0\n",
    "    for i in range(1, num+1):\n",
    "        if num % i == 0:\n",
    "            cnt += 1\n",
    "    if cnt == 2:\n",
    "        total_cnt += 1\n",
    "\n",
    "print(total_cnt)"
   ]
  },
  {
   "cell_type": "code",
   "execution_count": 5,
   "metadata": {},
   "outputs": [
    {
     "name": "stdout",
     "output_type": "stream",
     "text": [
      "[[], [2, 5], [1, 3, 5], [2], [7], [1, 2, 6], [5], [4]]\n",
      "4\n"
     ]
    }
   ],
   "source": [
    "# 2606 바이러스\n",
    "\n",
    "N = int(input())                # 노드의 수\n",
    "l = int(input())                # 경로의 수\n",
    "G = [[] for _ in range(N+1)]\n",
    "cnt = 0\n",
    "\n",
    "def dfs(start):\n",
    "    global cnt\n",
    "    STACK = []\n",
    "    visited = [False] * (N+1)\n",
    "\n",
    "    STACK.append(start)\n",
    "    visited[start] = True\n",
    "\n",
    "    while STACK:\n",
    "        v = STACK.pop()\n",
    "\n",
    "        for w in G[v]:\n",
    "            if not visited[w]:\n",
    "                STACK.append(w)\n",
    "                visited[w] = True\n",
    "                cnt += 1\n",
    "\n",
    "    return cnt\n",
    "\n",
    "\n",
    "for _ in range(l):\n",
    "    a, b = map(int, input().split())\n",
    "    v1 = a\n",
    "    v2 = b\n",
    "\n",
    "    G[v1].append(v2)\n",
    "    G[v2].append(v1)\n",
    "\n",
    "# print(G)\n",
    "print(dfs(1))\n"
   ]
  },
  {
   "cell_type": "code",
   "execution_count": null,
   "metadata": {},
   "outputs": [],
   "source": []
  }
 ],
 "metadata": {
  "kernelspec": {
   "display_name": "Python 3",
   "language": "python",
   "name": "python3"
  },
  "language_info": {
   "codemirror_mode": {
    "name": "ipython",
    "version": 3
   },
   "file_extension": ".py",
   "mimetype": "text/x-python",
   "name": "python",
   "nbconvert_exporter": "python",
   "pygments_lexer": "ipython3",
   "version": "3.12.1"
  }
 },
 "nbformat": 4,
 "nbformat_minor": 2
}
