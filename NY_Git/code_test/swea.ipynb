{
 "cells": [
  {
   "cell_type": "code",
   "execution_count": 4,
   "metadata": {},
   "outputs": [
    {
     "name": "stdout",
     "output_type": "stream",
     "text": [
      "#1 6282268\n"
     ]
    },
    {
     "ename": "ValueError",
     "evalue": "invalid literal for int() with base 10: ''",
     "output_type": "error",
     "traceback": [
      "\u001b[1;31m---------------------------------------------------------------------------\u001b[0m",
      "\u001b[1;31mValueError\u001b[0m                                Traceback (most recent call last)",
      "Cell \u001b[1;32mIn[4], line 6\u001b[0m\n\u001b[0;32m      3\u001b[0m T \u001b[38;5;241m=\u001b[39m \u001b[38;5;28mint\u001b[39m(\u001b[38;5;28minput\u001b[39m())\n\u001b[0;32m      5\u001b[0m \u001b[38;5;28;01mfor\u001b[39;00m test_case \u001b[38;5;129;01min\u001b[39;00m \u001b[38;5;28mrange\u001b[39m(\u001b[38;5;241m1\u001b[39m, T\u001b[38;5;241m+\u001b[39m\u001b[38;5;241m1\u001b[39m):\n\u001b[1;32m----> 6\u001b[0m     A \u001b[38;5;241m=\u001b[39m \u001b[38;5;28;43mint\u001b[39;49m\u001b[43m(\u001b[49m\u001b[38;5;28;43minput\u001b[39;49m\u001b[43m(\u001b[49m\u001b[43m)\u001b[49m\u001b[43m)\u001b[49m\n\u001b[0;32m      7\u001b[0m     \u001b[38;5;28;01mfor\u001b[39;00m _ \u001b[38;5;129;01min\u001b[39;00m \u001b[38;5;28mrange\u001b[39m(A):\n\u001b[0;32m      8\u001b[0m         B \u001b[38;5;241m=\u001b[39m \u001b[38;5;28mlist\u001b[39m(\u001b[38;5;28mmap\u001b[39m(\u001b[38;5;28mint\u001b[39m, \u001b[38;5;28minput\u001b[39m()\u001b[38;5;241m.\u001b[39msplit()))\n",
      "\u001b[1;31mValueError\u001b[0m: invalid literal for int() with base 10: ''"
     ]
    }
   ],
   "source": [
    "# 4828 min max \n",
    "\n",
    "T = int(input())\n",
    "\n",
    "for test_case in range(1, T+1):\n",
    "    A = int(input())\n",
    "    for _ in range(A):\n",
    "        B = list(map(int, input().split()))\n",
    "    result = sum(B)\n",
    "\n",
    "    print(f'#{test_case} {result}')"
   ]
  },
  {
   "cell_type": "code",
   "execution_count": 14,
   "metadata": {},
   "outputs": [
    {
     "name": "stdout",
     "output_type": "stream",
     "text": [
      "#1 21\n",
      "#2 11088\n",
      "#3 1090\n"
     ]
    }
   ],
   "source": [
    "T = int(input())\n",
    "\n",
    "for test_case in range(1, T+1):\n",
    "    N, M = map(int, input().split())\n",
    "    lst = list(map(int, input().split()))\n",
    "\n",
    "    min_sum = 9999999999\n",
    "    max_sum = 0\n",
    "\n",
    "    for i in range(N - M + 1):\n",
    "        current_sum = sum(lst[i:i+M])\n",
    "        min_sum = min(min_sum, current_sum)\n",
    "        max_sum = max(max_sum, current_sum)\n",
    "\n",
    "    result = max_sum - min_sum\n",
    "    print(f'#{test_case} {result}')"
   ]
  },
  {
   "cell_type": "code",
   "execution_count": 2,
   "metadata": {},
   "outputs": [
    {
     "name": "stdout",
     "output_type": "stream",
     "text": [
      "입력한 정수: 123123\n",
      "각 자리수 리스트: [1, 2, 3, 1, 2, 3]\n"
     ]
    }
   ],
   "source": [
    "# 정수를 문자열로 입력받기\n",
    "input_number = input(\"정수를 입력하세요: \")\n",
    "\n",
    "# 문자열을 각 자리수로 분리하여 리스트에 저장\n",
    "digit_list = [int(digit) for digit in input_number]\n",
    "\n",
    "# 결과 출력\n",
    "print(\"입력한 정수:\", input_number)\n",
    "print(\"각 자리수 리스트:\", digit_list)\n"
   ]
  },
  {
   "cell_type": "code",
   "execution_count": 19,
   "metadata": {},
   "outputs": [
    {
     "ename": "ValueError",
     "evalue": "invalid literal for int() with base 10: ''",
     "output_type": "error",
     "traceback": [
      "\u001b[1;31m---------------------------------------------------------------------------\u001b[0m",
      "\u001b[1;31mValueError\u001b[0m                                Traceback (most recent call last)",
      "Cell \u001b[1;32mIn[19], line 18\u001b[0m\n\u001b[0;32m     15\u001b[0m     \u001b[38;5;28;01mreturn\u001b[39;00m max_value\n\u001b[0;32m     17\u001b[0m \u001b[38;5;28;01mfor\u001b[39;00m test_case \u001b[38;5;129;01min\u001b[39;00m \u001b[38;5;28mrange\u001b[39m(\u001b[38;5;241m1\u001b[39m):\n\u001b[1;32m---> 18\u001b[0m     dump \u001b[38;5;241m=\u001b[39m \u001b[38;5;28;43mint\u001b[39;49m\u001b[43m(\u001b[49m\u001b[38;5;28;43minput\u001b[39;49m\u001b[43m(\u001b[49m\u001b[43m)\u001b[49m\u001b[43m)\u001b[49m\n\u001b[0;32m     19\u001b[0m     dump_lst \u001b[38;5;241m=\u001b[39m \u001b[38;5;28mlist\u001b[39m(\u001b[38;5;28mmap\u001b[39m(\u001b[38;5;28mint\u001b[39m, \u001b[38;5;28minput\u001b[39m()\u001b[38;5;241m.\u001b[39msplit()))\n\u001b[0;32m     21\u001b[0m     dump_max \u001b[38;5;241m=\u001b[39m my_max(dump_lst)\n",
      "\u001b[1;31mValueError\u001b[0m: invalid literal for int() with base 10: ''"
     ]
    }
   ],
   "source": [
    "# min 함수\n",
    "def my_min(lst):\n",
    "    min_value = 1e10\n",
    "    for i in range(len(lst)):\n",
    "        if lst[i] <= min_value:\n",
    "            min_value = lst[i]\n",
    "    return min_value\n",
    "\n",
    "# max 함수\n",
    "def my_max(lst):\n",
    "    max_value = 0\n",
    "    for i in range(len(lst)):\n",
    "        if lst[i] >= max_value:\n",
    "            max_value = lst[i]\n",
    "    return max_value\n",
    "\n",
    "for test_case in range(1):\n",
    "    dump = int(input())\n",
    "    dump_lst = list(map(int, input().split()))\n",
    "\n",
    "    dump_max = my_max(dump_lst)\n",
    "    dump_min = my_min(dump_lst)\n",
    "\n",
    "    for i in range(dump):\n",
    "        dump -= 1\n",
    "        new_dump_max = dump_max - 1\n",
    "        new_dump_min = dump_min + 1\n",
    "\n",
    "        if dump_max - dump_min == 0:\n",
    "            break\n",
    "\n",
    "\n",
    "    print(f'#{test_case} {my_max(dump_lst) - my_min(dump_lst)}')"
   ]
  },
  {
   "cell_type": "code",
   "execution_count": 5,
   "metadata": {},
   "outputs": [
    {
     "name": "stdout",
     "output_type": "stream",
     "text": [
      "#1 3\n",
      "#2 0\n",
      "#3 4\n"
     ]
    }
   ],
   "source": [
    "# 4831 전기버스\n",
    "\n",
    "def check():\n",
    "    now = 0\n",
    "    cnt = 0\n",
    "    for i in range(1, M):\n",
    "        if STOPS[i] - STOPS[i-1] > K:\n",
    "            return 0\n",
    "        if now+K < STOPS[i]:\n",
    "            cnt += 1\n",
    "            now = STOPS[i-1]\n",
    "\n",
    "    return cnt\n",
    "\n",
    "\n",
    "T = int(input())\n",
    "\n",
    "for test_case in range(1, T+1):\n",
    "    K, N, M = map(int, input().split())\n",
    "    STOPS = [0] + list(map(int, input().split())) + [N] # 앞에 하나, 뒤에 하나 생성\n",
    "    M += 2 # 맨 처음, 맨 뒤 충전소 추가\n",
    "    \n",
    "    print(f'#{test_case} {check()}')\n",
    "\n",
    "\n",
    "\n",
    "    # print(K, N, M, STOPS)"
   ]
  },
  {
   "cell_type": "code",
   "execution_count": null,
   "metadata": {},
   "outputs": [],
   "source": []
  }
 ],
 "metadata": {
  "kernelspec": {
   "display_name": "Python 3",
   "language": "python",
   "name": "python3"
  },
  "language_info": {
   "codemirror_mode": {
    "name": "ipython",
    "version": 3
   },
   "file_extension": ".py",
   "mimetype": "text/x-python",
   "name": "python",
   "nbconvert_exporter": "python",
   "pygments_lexer": "ipython3",
   "version": "3.12.1"
  }
 },
 "nbformat": 4,
 "nbformat_minor": 2
}
